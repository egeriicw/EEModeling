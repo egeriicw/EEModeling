{
 "metadata": {
  "name": "EEModelingWhitePaper"
 },
 "nbformat": 3,
 "nbformat_minor": 0,
 "worksheets": [
  {
   "cells": [
    {
     "cell_type": "markdown",
     "metadata": {},
     "source": [
      "###Home Energy Efficiency Investment Modeling\n",
      "####An Novel Application of Optimal Portfolio Theory\n",
      "#####Matthew Gee\n",
      "#####March 2012"
     ]
    },
    {
     "cell_type": "markdown",
     "metadata": {},
     "source": [
      "####Overview\n",
      "Effortless Energy modeling seeks investments in residential energy efficiency that provide competitive returns while minimizing risk to fund investors. We do this through a 6 stage process:\n",
      "\n",
      "1. Targeting and Screening\n",
      "2. Auditing and Modeling Expected Energy Savings and Risk\n",
      "3. Choosing Optimal Investments\n",
      "4. Verifying Savings and Confirming Contract Terms\n",
      "5. Continued Monitoring"
     ]
    },
    {
     "cell_type": "markdown",
     "metadata": {},
     "source": [
      "###Targeting\n",
      "To understand the importance of targeting, it's helpful to understand the unit economics of an energy efficiency investment.\n",
      "\n",
      "####Unit Economics of an EE Investment\n",
      "Take a home with average sa\n",
      "$$ $$\n",
      "\n",
      "###Two main types of risk to screen on:\n",
      "- Savings Risk\n",
      "    - Are the potential savings large enough to justify the expense of sending out an auditor?\n",
      "- Credit Risk\n",
      "    - Is the person in the home or apartment "
     ]
    },
    {
     "cell_type": "code",
     "collapsed": false,
     "input": [
      "#Create an index by census block of savings potential"
     ],
     "language": "python",
     "metadata": {},
     "outputs": []
    },
    {
     "cell_type": "markdown",
     "metadata": {},
     "source": [
      "###Auditing and Modeling Expected Energy Savings and Risk\n",
      "\n",
      "####Cox Proportional Hazard Model for Repayment\n",
      "EE models the probability of default in a given time period as the hazard function\n",
      "\n",
      "$$ h_i(t)= \\lambda_0(t)exp(\\beta_1*X_{i1t} + \\beta_2*X_{i1t} + \\beta_3*X_{i1t} + \\beta_4*X_{i1t})$$\n",
      "\n",
      "where \n",
      "$$X_{i1t}$$ etc. \n",
      "are covariates that jointly determine \n",
      "\n",
      "####Stochastic model of savings\n",
      "Each home has an expected savings derived from energy use models. However, a variety of factors can influence the accuracy of this estimate\n",
      "Total home savings are a function of.\n",
      "\n",
      "- Baseline energy use\n",
      "- Prior home characteristics\n",
      "- Choice of energy efficiency improvements\n",
      "- amount of improvements\n",
      "- quality of install\n",
      "- future behavior\n",
      "- future tempurature\n",
      "- future energy prices\n",
      "\n",
      "Let's take the case of lighting"
     ]
    },
    {
     "cell_type": "code",
     "collapsed": false,
     "input": [
      "# calculate expected savings path for given home, investment portfolio, and states\n",
      "\n",
      "savingsPath = np.array([])\n",
      "\n"
     ],
     "language": "python",
     "metadata": {},
     "outputs": [],
     "prompt_number": "*"
    }
   ],
   "metadata": {}
  }
 ]
}